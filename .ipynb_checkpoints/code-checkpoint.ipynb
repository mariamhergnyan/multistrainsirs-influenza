{
 "cells": [
  {
   "cell_type": "code",
   "execution_count": 9,
   "id": "2b05fd06",
   "metadata": {},
   "outputs": [],
   "source": [
    "import numpy as np\n",
    "import matplotlib as plt \n",
    "import pandas as pd"
   ]
  },
  {
   "cell_type": "code",
   "execution_count": 29,
   "id": "83d25a97",
   "metadata": {},
   "outputs": [],
   "source": [
    "#import data \n",
    "data = pd.read_excel('influenza_it.xlsx')\n",
    "h1n1 = data['AH1N12009']\n",
    "h3n2 = data['AH3']\n",
    "H1N1 = h1n1.to_numpy()\n",
    "H3N2 = h3n2.to_numpy()\n"
   ]
  },
  {
   "cell_type": "code",
   "execution_count": 40,
   "id": "d22fa8fe",
   "metadata": {},
   "outputs": [
    {
     "ename": "IndexError",
     "evalue": "list index out of range",
     "output_type": "error",
     "traceback": [
      "\u001b[0;31m---------------------------------------------------------------------------\u001b[0m",
      "\u001b[0;31mIndexError\u001b[0m                                Traceback (most recent call last)",
      "Input \u001b[0;32mIn [40]\u001b[0m, in \u001b[0;36m<cell line: 44>\u001b[0;34m()\u001b[0m\n\u001b[1;32m     41\u001b[0m incidence2_det\u001b[38;5;241m.\u001b[39mappend(\u001b[38;5;241m0\u001b[39m)\n\u001b[1;32m     44\u001b[0m \u001b[38;5;28;01mfor\u001b[39;00m t \u001b[38;5;129;01min\u001b[39;00m \u001b[38;5;28mrange\u001b[39m(Tmax\u001b[38;5;241m+\u001b[39m\u001b[38;5;241m1\u001b[39m):\n\u001b[0;32m---> 46\u001b[0m     infected \u001b[38;5;241m=\u001b[39m \u001b[38;5;241m-\u001b[39m((c12\u001b[38;5;241m*\u001b[39mbeta2 \u001b[38;5;241m*\u001b[39m \u001b[43mS2_det\u001b[49m\u001b[43m[\u001b[49m\u001b[43mt\u001b[49m\u001b[43m]\u001b[49m\u001b[38;5;241m*\u001b[39mI2_det[t])\u001b[38;5;241m/\u001b[39mN \u001b[38;5;241m+\u001b[39m (c21 \u001b[38;5;241m*\u001b[39m beta1 \u001b[38;5;241m*\u001b[39m S1_det[t]\u001b[38;5;241m*\u001b[39mI1_det[t])\u001b[38;5;241m/\u001b[39mN) \u001b[38;5;241m+\u001b[39m (N\u001b[38;5;241m-\u001b[39mS1_det[t]\u001b[38;5;241m-\u001b[39mI1_det[t])\u001b[38;5;241m/\u001b[39mL1 \u001b[38;5;241m+\u001b[39mmu\u001b[38;5;241m*\u001b[39m(N\u001b[38;5;241m-\u001b[39mS1_det[t])\u001b[38;5;241m-\u001b[39malpha\n",
      "\u001b[0;31mIndexError\u001b[0m: list index out of range"
     ]
    }
   ],
   "source": [
    "#2012-2019\n",
    "N = np.mean([59540000, 60230000,60790000 ,60730000 ,60630000,60540000,60420000,59730000]) #assume no migration, constant population \n",
    "I01 = N * 0.003 \n",
    "I02 = N * 0.001\n",
    "S01 = N - I01\n",
    "S02 = N - I02\n",
    "D1 = 2.64 #days\n",
    "D2 = 3.03\n",
    "L1 = 3.12 #years\n",
    "L2 = 2.28 \n",
    "c12 = 0.4\n",
    "c21 = 0.17 \n",
    "mu = np.mean([9.014,8.839,8.597,8.354,8.112,7.869,7.627,7.509,10.045,10.121,10.192,10.262,10.333,10.403,10.474,10.566])\n",
    "alpha = 0.1 * N//100000 #0.1 per 100000\n",
    "R01 = 1.44\n",
    "R02 = 1.60 \n",
    "beta1 = mu*R01\n",
    "beta2 = mu *R02\n",
    "Tmax = 130 #weeks\n",
    "\n",
    "S1_det=[] #vectors of Susceptible\n",
    "I1_det=[] #vectors of Infetious\n",
    "#R1_det=[] #vectors of Recovered\n",
    "incidence1_det=[] # vector of incidence \n",
    "\n",
    "#Initial conditions \n",
    "I1_det.append(I01)\n",
    "#R1_det.append(int(0.2*N))\n",
    "S1_det.append(S01)\n",
    "incidence1_det.append(0)\n",
    "\n",
    "S2_det=[] #vectors of Susceptible\n",
    "I2_det=[] #vectors of Infetious\n",
    "#R2_det=[] #vectors of Recovered\n",
    "incidence2_det=[] # vector of incidence \n",
    "\n",
    "#Initial conditions \n",
    "I2_det.append(I02)\n",
    "#R2_det.append(int(0.2*N))\n",
    "S2_det.append(S02)\n",
    "incidence2_det.append(0)\n",
    "\n",
    "\n",
    "for t in range(Tmax):\n",
    "    \n",
    "    dS1 = -((c12*beta2 * S2_det[t]*I2_det[t])/N + (c21 * beta1 * S1_det[t]*I1_det[t])/N) + (N-S1_det[t]-I1_det[t])/L1 +mu*(N-S1_det[t])-alpha\n",
    "    dI1 = (beta1*S1_det[t]*I1_det[t])/N - I1_det[t]/D1 - mu*I1_det[t] + alpha\n",
    "    dS2 = -((c12*beta2 * S2_det[t]*I2_det[t])/N + (c21 * beta1 * S1_det[t]*I1_det[t])/N) + (N-S2_det[t]-I2_det[t])/L2 +mu*(N-S2_det[t])-alpha\n",
    "    dI2 = (beta2*S2_det[t]*I2_det[t])/N - I2_det[t]/D2 - mu*I2_det[t] + alpha\n",
    "    \n",
    "    #R1 = N-S1_det[t]-I1_det[t]\n",
    "   # R2 = N-S2_det[t]-I2_det[t]\n",
    "    \n",
    "    S1_det.append(S1_det[t]-dI1)\n",
    "    S2_det.append(S2_det[t]-dI2)\n",
    "    I1_det.append(I1_det[t]+)\n",
    "#      #deterministic\n",
    "#     FOI= beta*float(I_det[t])/float(N)\n",
    "#     infected= S_det[t]*FOI\n",
    "#     recovered= I_det[t]*mu\n",
    "#     incidence_det.append(infected) \n",
    "    \n",
    "#     S_det.append(S_det[t]-infected)\n",
    "#     I_det.append(I_det[t]+infected-recovered)\n",
    "#     R_det.append(R_det[t]+recovered)\n"
   ]
  },
  {
   "cell_type": "code",
   "execution_count": null,
   "id": "69fce2de",
   "metadata": {},
   "outputs": [],
   "source": []
  }
 ],
 "metadata": {
  "kernelspec": {
   "display_name": "Python 3 (ipykernel)",
   "language": "python",
   "name": "python3"
  },
  "language_info": {
   "codemirror_mode": {
    "name": "ipython",
    "version": 3
   },
   "file_extension": ".py",
   "mimetype": "text/x-python",
   "name": "python",
   "nbconvert_exporter": "python",
   "pygments_lexer": "ipython3",
   "version": "3.8.8"
  }
 },
 "nbformat": 4,
 "nbformat_minor": 5
}
